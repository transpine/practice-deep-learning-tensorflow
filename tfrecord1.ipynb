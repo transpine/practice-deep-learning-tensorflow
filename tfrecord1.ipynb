{
 "cells": [
  {
   "cell_type": "code",
   "execution_count": null,
   "metadata": {},
   "outputs": [],
   "source": [
    "import os\n",
    "import sys\n",
    "from PIL import Image\n",
    "import numpy as np\n",
    "import matplotlib.pyplot as plt\n",
    "import tensorflow as tf\n",
    "import IPython.display as display"
   ]
  },
  {
   "cell_type": "code",
   "execution_count": null,
   "metadata": {},
   "outputs": [],
   "source": [
    "os.environ['TF_CPP_MIN_LOG_LEVEL']='2'"
   ]
  },
  {
   "cell_type": "code",
   "execution_count": null,
   "metadata": {},
   "outputs": [],
   "source": [
    "sys.path"
   ]
  },
  {
   "cell_type": "code",
   "execution_count": null,
   "metadata": {},
   "outputs": [],
   "source": [
    "# sys.path.append('..')"
   ]
  },
  {
   "cell_type": "code",
   "execution_count": null,
   "metadata": {},
   "outputs": [],
   "source": [
    "IMAGE_PATH = 'data/'"
   ]
  },
  {
   "cell_type": "code",
   "execution_count": null,
   "metadata": {},
   "outputs": [],
   "source": [
    "def get_image_binary(filename):\n",
    "  image = Image.open(filename)\n",
    "  image_arr = np.asarray(image, np.uint8)\n",
    "  shape = np.array(image_arr.shape, np.int32)\n",
    "  print(image_arr.shape)\n",
    "  return shape.tobytes(), image.tobytes()"
   ]
  },
  {
   "cell_type": "code",
   "execution_count": null,
   "metadata": {},
   "outputs": [],
   "source": [
    "get_image_binary('data/sample.jpg')[0]"
   ]
  },
  {
   "cell_type": "code",
   "execution_count": null,
   "metadata": {},
   "outputs": [],
   "source": [
    "def main():\n",
    "  label = 1\n",
    "  image_file = IMAGE_PATH + 'sample.jpg'\n",
    "  tfrecord_file = IMAGE_PATH + 'sample.tfrecord'\n",
    "  # write_tfrecord(label, image_file, tfrecord_file)\n",
    "  read_tfrecord(tfrecord_file)"
   ]
  },
  {
   "cell_type": "code",
   "execution_count": null,
   "metadata": {},
   "outputs": [],
   "source": [
    "def write_tfrecord(label, image_file, tfrecord_file):\n",
    "  shape, binary_image = get_image_binary(image_file)\n",
    "  write_to_tfrecord(label, shape, binary_image, tfrecord_file)"
   ]
  },
  {
   "cell_type": "code",
   "execution_count": null,
   "metadata": {},
   "outputs": [],
   "source": [
    "def write_to_tfrecord(label, shape, binary_image, tfrecord_file):\n",
    "  # writer = tf.python_io.TFRecordWriter(tfrecord_file) #TF1\n",
    "  # writer = tf.io.TFRecordWriter(tfrecord_file)  #TF2\n",
    "  # example = tf.train.Example(features=tf.train.Features(feature={\n",
    "  #   'label': _int64_feature(label),\n",
    "  #   'shape': _bytes_feature(shape),\n",
    "  #   'image': _bytes_feature(binary_image)\n",
    "  # }))\n",
    "  # writer.write(example.SerializeToString())\n",
    "  # writer.close()\n",
    "  with tf.io.TFRecordWriter(tfrecord_file) as writer:\n",
    "    example = tf.train.Example(features=tf.train.Features(feature={\n",
    "      'label': _int64_feature(label),\n",
    "      'shape': _bytes_feature(shape),\n",
    "      'image': _bytes_feature(binary_image)\n",
    "    }))\n",
    "    writer.write(example.SerializeToString())"
   ]
  },
  {
   "cell_type": "code",
   "execution_count": null,
   "metadata": {},
   "outputs": [],
   "source": [
    "def _int64_feature(value):\n",
    "  return tf.train.Feature(int64_list=tf.train.Int64List(value=[value]))"
   ]
  },
  {
   "cell_type": "code",
   "execution_count": null,
   "metadata": {},
   "outputs": [],
   "source": [
    "def _bytes_feature(value):\n",
    "  return tf.train.Feature(bytes_list=tf.train.BytesList(value=[value]))"
   ]
  },
  {
   "cell_type": "code",
   "execution_count": null,
   "metadata": {},
   "outputs": [],
   "source": [
    "def read_tfrecord(tfrecord_file):\n",
    "  # label, shape, image = read_from_tfrecord([tfrecord_file])\n",
    "  read_from_tfrecord([tfrecord_file])\n",
    "\n",
    "  # with tf.Session() as sess:\n",
    "  #   coord = tf.train.Coordinator()\n",
    "  #   threads = tf.train.start_queue_runner(coord=coord)\n",
    "  #   label, image, shape = sess.run([label, image, shape])\n",
    "  #   coord.request_stop()\n",
    "  #   coord.join(threads)\n",
    "  \n",
    "  # print(label)\n",
    "  # print(shape)\n",
    "  # plt.imshow(image)\n",
    "  # plt.show()"
   ]
  },
  {
   "cell_type": "code",
   "execution_count": null,
   "metadata": {},
   "outputs": [],
   "source": [
    "def _parse_image_function(example_proto):\n",
    "  \n",
    "  image_feature_description = {\n",
    "    'label': tf.io.FixedLenFeature([], tf.int64),\n",
    "    'shape': tf.io.FixedLenFeature([], tf.string),\n",
    "    'image': tf.io.FixedLenFeature([], tf.string)\n",
    "  }\n",
    "\n",
    "  return tf.io.parse_single_example(example_proto, image_feature_description)"
   ]
  },
  {
   "cell_type": "code",
   "execution_count": null,
   "metadata": {},
   "outputs": [],
   "source": [
    "def read_from_tfrecord(tfrecord_file):\n",
    "  raw_dataset = tf.data.TFRecordDataset(tfrecord_file)\n",
    "  parsed_image_dataset = raw_dataset.map(_parse_image_function)\n",
    "\n",
    "  for image_features in parsed_image_dataset:\n",
    "    # image_raw = image_features['image'].numpy()\n",
    "    image_raw = tf.io.decode_raw(image_features['image'], tf.uint8)\n",
    "    image_shape = tf.io.decode_raw(image_features['shape'], tf.int32)\n",
    "  print('shape: %s' % image_shape)\n",
    "  image = tf.reshape(image_raw, image_shape)\n",
    "  # display.display(display.Image(data=image))\n",
    "  plt.imshow(image)\n",
    "  plt.show()\n",
    "\n",
    "  # for raw_record in raw_dataset.take(1):\n",
    "  #   example = tf.train.Example()\n",
    "  #   example.ParseFromString(raw_record.numpy())\n",
    "\n",
    "  #   print(example)\n",
    "\n",
    "  "
   ]
  },
  {
   "cell_type": "code",
   "execution_count": null,
   "metadata": {},
   "outputs": [],
   "source": [
    "main()"
   ]
  },
  {
   "cell_type": "code",
   "execution_count": null,
   "metadata": {},
   "outputs": [],
   "source": []
  }
 ],
 "metadata": {
  "interpreter": {
   "hash": "0f21a28907bd242e258084ea54ba990dcd1f4be497b2c8a0510eed57636297e3"
  },
  "kernelspec": {
   "display_name": "Python 3.7.6 64-bit ('.env': venv)",
   "name": "python3"
  },
  "language_info": {
   "codemirror_mode": {
    "name": "ipython",
    "version": 3
   },
   "file_extension": ".py",
   "mimetype": "text/x-python",
   "name": "python",
   "nbconvert_exporter": "python",
   "pygments_lexer": "ipython3",
   "version": "3.7.6"
  },
  "orig_nbformat": 4
 },
 "nbformat": 4,
 "nbformat_minor": 2
}
