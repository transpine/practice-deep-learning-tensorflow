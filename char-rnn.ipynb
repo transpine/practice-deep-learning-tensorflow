{
 "cells": [
  {
   "cell_type": "code",
   "execution_count": 1,
   "metadata": {},
   "outputs": [],
   "source": [
    "from absl import app\n",
    "import tensorflow as tf\n",
    "import os\n",
    "import time\n",
    "import numpy as np\n",
    "from simple_py_logger import log"
   ]
  },
  {
   "cell_type": "code",
   "execution_count": 2,
   "metadata": {},
   "outputs": [
    {
     "name": "stderr",
     "output_type": "stream",
     "text": [
      "\u001b[33m[2021-11-09 23:01:34.591][WRN] warning log\u001b[0m\n"
     ]
    }
   ],
   "source": [
    "data_dir = tf.keras.utils.get_file('E:\\\\Project\\\\DeepLearning_FastCampus\\\\data\\\\input.txt', 'https://storage.googleapis.com/download.tensorflow.org/data/shakespeare.txt')\n",
    "batch_size = 64\n",
    "seq_length = 100\n",
    "embedding_dim = 256\n",
    "hidden_size = 1024\n",
    "num_epochs = 10\n",
    "\n",
    "log.warning('warning log')"
   ]
  },
  {
   "cell_type": "code",
   "execution_count": 9,
   "metadata": {},
   "outputs": [],
   "source": [
    "text = open(data_dir, 'rb').read().decode(encoding='utf-8')"
   ]
  },
  {
   "cell_type": "code",
   "execution_count": 11,
   "metadata": {},
   "outputs": [
    {
     "name": "stdout",
     "output_type": "stream",
     "text": [
      "unique charaters : 1115394\n"
     ]
    }
   ],
   "source": [
    "vocab = sorted(text)\n",
    "vocab_len = len(vocab)\n",
    "print(f'unique charaters : {vocab_len}')"
   ]
  },
  {
   "cell_type": "code",
   "execution_count": 14,
   "metadata": {},
   "outputs": [
    {
     "data": {
      "text/plain": [
       "65"
      ]
     },
     "execution_count": 14,
     "metadata": {},
     "output_type": "execute_result"
    }
   ],
   "source": [
    "len({u: i for i, u in enumerate(vocab)})"
   ]
  },
  {
   "cell_type": "code",
   "execution_count": null,
   "metadata": {},
   "outputs": [],
   "source": []
  }
 ],
 "metadata": {
  "interpreter": {
   "hash": "0f21a28907bd242e258084ea54ba990dcd1f4be497b2c8a0510eed57636297e3"
  },
  "kernelspec": {
   "display_name": "Python 3.7.6 64-bit ('.env': venv)",
   "name": "python3"
  },
  "language_info": {
   "codemirror_mode": {
    "name": "ipython",
    "version": 3
   },
   "file_extension": ".py",
   "mimetype": "text/x-python",
   "name": "python",
   "nbconvert_exporter": "python",
   "pygments_lexer": "ipython3",
   "version": "3.7.6"
  },
  "orig_nbformat": 4
 },
 "nbformat": 4,
 "nbformat_minor": 2
}
