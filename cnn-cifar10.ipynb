{
 "cells": [
  {
   "cell_type": "code",
   "execution_count": 1,
   "metadata": {},
   "outputs": [],
   "source": [
    "import tensorflow as tf"
   ]
  },
  {
   "cell_type": "code",
   "execution_count": 2,
   "metadata": {},
   "outputs": [
    {
     "name": "stdout",
     "output_type": "stream",
     "text": [
      "1 Physical GPUs, 1 Logical GPUs\n"
     ]
    }
   ],
   "source": [
    "# gpus = tf.config.experimental.list_physical_devices('GPU')\n",
    "# if gpus:\n",
    "#     try:\n",
    "#         # Currently, memory growth needs to be the same across GPUs\n",
    "#         for gpu in gpus:\n",
    "#             tf.config.experimental.set_memory_growth(gpu, True)\n",
    "#         logical_gpus = tf.config.experimental.list_logical_devices('GPU')\n",
    "#         print(len(gpus), \"Physical GPUs,\", len(logical_gpus), \"Logical GPUs\")\n",
    "#     except RuntimeError as e:\n",
    "#         # Memory growth must be set before GPUs have been initialized\n",
    "#         print(e)"
   ]
  },
  {
   "cell_type": "code",
   "execution_count": 3,
   "metadata": {},
   "outputs": [],
   "source": [
    "(x_train, y_train), (x_test, y_test ) = tf.keras.datasets.cifar10.load_data()"
   ]
  },
  {
   "cell_type": "code",
   "execution_count": 4,
   "metadata": {},
   "outputs": [
    {
     "name": "stdout",
     "output_type": "stream",
     "text": [
      "(50000, 32, 32, 3)\n",
      "(50000, 1)\n",
      "(10000, 32, 32, 3)\n",
      "(10000, 1)\n"
     ]
    }
   ],
   "source": [
    "print(x_train.shape)\n",
    "print(y_train.shape)\n",
    "print(x_test.shape)\n",
    "print(y_test.shape)"
   ]
  },
  {
   "cell_type": "code",
   "execution_count": 5,
   "metadata": {},
   "outputs": [],
   "source": [
    "x_train, x_test = x_train.astype('float32'), x_test.astype('float32')\n",
    "x_train, x_test = x_train / 255., x_test / 255."
   ]
  },
  {
   "cell_type": "code",
   "execution_count": 6,
   "metadata": {},
   "outputs": [],
   "source": [
    "y_train_one_hot = tf.squeeze(tf.one_hot(y_train, 10), axis=1)\n",
    "y_test_one_hot = tf.squeeze(tf.one_hot(y_test, 10), axis=1)"
   ]
  },
  {
   "cell_type": "code",
   "execution_count": 7,
   "metadata": {},
   "outputs": [],
   "source": [
    "train_data = tf.data.Dataset.from_tensor_slices((x_train, y_train_one_hot))"
   ]
  },
  {
   "cell_type": "code",
   "execution_count": 8,
   "metadata": {},
   "outputs": [],
   "source": [
    "train_data = train_data.repeat().shuffle(50000).batch(128)\n",
    "train_data_iter = iter(train_data)"
   ]
  },
  {
   "cell_type": "code",
   "execution_count": 9,
   "metadata": {},
   "outputs": [],
   "source": [
    "test_data = tf.data.Dataset.from_tensor_slices((x_test, y_test_one_hot))\n",
    "test_data = test_data.batch(1000)\n",
    "test_data_iter = iter(test_data)"
   ]
  },
  {
   "cell_type": "code",
   "execution_count": 10,
   "metadata": {},
   "outputs": [],
   "source": [
    "class CNN(tf.keras.Model):\n",
    "  def __init__(self):\n",
    "    super(CNN, self).__init__()\n",
    "    self.conv_layer_1 = tf.keras.layers.Conv2D(filters=64, kernel_size=5, strides=1, padding='same', activation='relu')\n",
    "    self.pool_layer_1 = tf.keras.layers.MaxPool2D(pool_size=(3, 3), strides=2)\n",
    "    self.conv_layer_2 = tf.keras.layers.Conv2D(filters=64, kernel_size=5, strides=1, padding='same', activation='relu')\n",
    "    self.pool_layer_2 = tf.keras.layers.MaxPool2D(pool_size=(3, 3), strides=2)\n",
    "    self.conv_layer_3 = tf.keras.layers.Conv2D(filters=128, kernel_size=3, strides=1, padding='same', activation='relu')\n",
    "    self.conv_layer_4 = tf.keras.layers.Conv2D(filters=128, kernel_size=3, strides=1, padding='same', activation='relu')\n",
    "    self.conv_layer_5 = tf.keras.layers.Conv2D(filters=128, kernel_size=3, strides=1, padding='same', activation='relu')\n",
    "\n",
    "    self.flatten_layer = tf.keras.layers.Flatten()\n",
    "    self.fc_layer_1 = tf.keras.layers.Dense(384, activation='relu')\n",
    "    self.dropout = tf.keras.layers.Dropout(0.2)\n",
    "\n",
    "    self.output_layer = tf.keras.layers.Dense(10, activation=None)\n",
    "\n",
    "  def call(self, x, is_training):\n",
    "    h_conv1 = self.conv_layer_1(x)\n",
    "    h_pool1 = self.pool_layer_1(h_conv1)\n",
    "    h_conv2 = self.conv_layer_2(h_pool1)\n",
    "    h_pool2 = self.pool_layer_2(h_conv2)\n",
    "    h_conv3 = self.conv_layer_3(h_pool2)\n",
    "    h_conv4 = self.conv_layer_4(h_conv3)\n",
    "    h_conv5 = self.conv_layer_5(h_conv4)\n",
    "    h_conv5_flat = self.flatten_layer(h_conv5)\n",
    "    h_fc1 = self.fc_layer_1(h_conv5_flat)\n",
    "    h_fc1_dropout = self.dropout(h_fc1, training=is_training)\n",
    "    logits = self.output_layer(h_fc1_dropout)\n",
    "    y_pred = tf.nn.softmax(logits)\n",
    "\n",
    "    return y_pred, logits"
   ]
  },
  {
   "cell_type": "code",
   "execution_count": 11,
   "metadata": {},
   "outputs": [],
   "source": [
    "@tf.function\n",
    "def cross_entropy(logits, y):\n",
    "  return tf.reduce_mean(tf.nn.softmax_cross_entropy_with_logits(logits=logits, labels=y))"
   ]
  },
  {
   "cell_type": "code",
   "execution_count": 12,
   "metadata": {},
   "outputs": [],
   "source": [
    "optimizer = tf.optimizers.RMSprop(1e-3)"
   ]
  },
  {
   "cell_type": "code",
   "execution_count": 13,
   "metadata": {},
   "outputs": [],
   "source": [
    "@tf.function\n",
    "def train_step(model, x, y, is_training):\n",
    "  with tf.GradientTape() as tape:\n",
    "    y_pred, logits = model(x, is_training)\n",
    "    loss = cross_entropy(logits, y)\n",
    "  gradients = tape.gradient(loss, model.trainable_variables)\n",
    "  optimizer.apply_gradients(zip(gradients, model.trainable_variables))"
   ]
  },
  {
   "cell_type": "code",
   "execution_count": 14,
   "metadata": {},
   "outputs": [],
   "source": [
    "@tf.function\n",
    "def compute_accuracy(y_pred, y):\n",
    "  correct_prediction = tf.equal( tf.argmax(y_pred, 1), tf.argmax(y, 1))\n",
    "  accuracy = tf.reduce_mean(tf.cast(correct_prediction, tf.float32))\n",
    "\n",
    "  return accuracy"
   ]
  },
  {
   "cell_type": "code",
   "execution_count": 15,
   "metadata": {},
   "outputs": [],
   "source": [
    "CNN_model = CNN()"
   ]
  },
  {
   "cell_type": "code",
   "execution_count": 16,
   "metadata": {},
   "outputs": [
    {
     "name": "stdout",
     "output_type": "stream",
     "text": [
      "반복(Epoch): 0, 트레이닝 데이터 정확도: 0.101562, 손실 함수(loss): 2.302316\n",
      "반복(Epoch): 100, 트레이닝 데이터 정확도: 0.242188, 손실 함수(loss): 2.291304\n",
      "반복(Epoch): 200, 트레이닝 데이터 정확도: 0.304688, 손실 함수(loss): 1.892679\n",
      "반복(Epoch): 300, 트레이닝 데이터 정확도: 0.265625, 손실 함수(loss): 2.299943\n",
      "반복(Epoch): 400, 트레이닝 데이터 정확도: 0.429688, 손실 함수(loss): 1.561283\n",
      "반복(Epoch): 500, 트레이닝 데이터 정확도: 0.445312, 손실 함수(loss): 1.478231\n",
      "반복(Epoch): 600, 트레이닝 데이터 정확도: 0.421875, 손실 함수(loss): 1.371347\n",
      "반복(Epoch): 700, 트레이닝 데이터 정확도: 0.554688, 손실 함수(loss): 1.293042\n",
      "반복(Epoch): 800, 트레이닝 데이터 정확도: 0.609375, 손실 함수(loss): 1.235973\n",
      "반복(Epoch): 900, 트레이닝 데이터 정확도: 0.476562, 손실 함수(loss): 1.465708\n",
      "반복(Epoch): 1000, 트레이닝 데이터 정확도: 0.625000, 손실 함수(loss): 1.141260\n",
      "반복(Epoch): 1100, 트레이닝 데이터 정확도: 0.546875, 손실 함수(loss): 1.394802\n",
      "반복(Epoch): 1200, 트레이닝 데이터 정확도: 0.617188, 손실 함수(loss): 1.071427\n",
      "반복(Epoch): 1300, 트레이닝 데이터 정확도: 0.671875, 손실 함수(loss): 0.788719\n",
      "반복(Epoch): 1400, 트레이닝 데이터 정확도: 0.593750, 손실 함수(loss): 1.193170\n",
      "반복(Epoch): 1500, 트레이닝 데이터 정확도: 0.671875, 손실 함수(loss): 0.866369\n",
      "반복(Epoch): 1600, 트레이닝 데이터 정확도: 0.757812, 손실 함수(loss): 0.677981\n",
      "반복(Epoch): 1700, 트레이닝 데이터 정확도: 0.742188, 손실 함수(loss): 0.697199\n",
      "반복(Epoch): 1800, 트레이닝 데이터 정확도: 0.671875, 손실 함수(loss): 0.947513\n",
      "반복(Epoch): 1900, 트레이닝 데이터 정확도: 0.687500, 손실 함수(loss): 0.850519\n",
      "반복(Epoch): 2000, 트레이닝 데이터 정확도: 0.742188, 손실 함수(loss): 0.810194\n",
      "반복(Epoch): 2100, 트레이닝 데이터 정확도: 0.750000, 손실 함수(loss): 0.834373\n",
      "반복(Epoch): 2200, 트레이닝 데이터 정확도: 0.765625, 손실 함수(loss): 0.683002\n",
      "반복(Epoch): 2300, 트레이닝 데이터 정확도: 0.734375, 손실 함수(loss): 0.734610\n",
      "반복(Epoch): 2400, 트레이닝 데이터 정확도: 0.843750, 손실 함수(loss): 0.428924\n",
      "반복(Epoch): 2500, 트레이닝 데이터 정확도: 0.695312, 손실 함수(loss): 0.830642\n",
      "반복(Epoch): 2600, 트레이닝 데이터 정확도: 0.773438, 손실 함수(loss): 0.703858\n",
      "반복(Epoch): 2700, 트레이닝 데이터 정확도: 0.804688, 손실 함수(loss): 0.550128\n",
      "반복(Epoch): 2800, 트레이닝 데이터 정확도: 0.828125, 손실 함수(loss): 0.502668\n",
      "반복(Epoch): 2900, 트레이닝 데이터 정확도: 0.796875, 손실 함수(loss): 0.540027\n",
      "반복(Epoch): 3000, 트레이닝 데이터 정확도: 0.828125, 손실 함수(loss): 0.510879\n",
      "반복(Epoch): 3100, 트레이닝 데이터 정확도: 0.820312, 손실 함수(loss): 0.554649\n",
      "반복(Epoch): 3200, 트레이닝 데이터 정확도: 0.734375, 손실 함수(loss): 0.715620\n",
      "반복(Epoch): 3300, 트레이닝 데이터 정확도: 0.804688, 손실 함수(loss): 0.613742\n",
      "반복(Epoch): 3400, 트레이닝 데이터 정확도: 0.835938, 손실 함수(loss): 0.506904\n",
      "반복(Epoch): 3500, 트레이닝 데이터 정확도: 0.867188, 손실 함수(loss): 0.388216\n",
      "반복(Epoch): 3600, 트레이닝 데이터 정확도: 0.898438, 손실 함수(loss): 0.357046\n",
      "반복(Epoch): 3700, 트레이닝 데이터 정확도: 0.789062, 손실 함수(loss): 0.502819\n",
      "반복(Epoch): 3800, 트레이닝 데이터 정확도: 0.875000, 손실 함수(loss): 0.441291\n",
      "반복(Epoch): 3900, 트레이닝 데이터 정확도: 0.843750, 손실 함수(loss): 0.371339\n",
      "반복(Epoch): 4000, 트레이닝 데이터 정확도: 0.898438, 손실 함수(loss): 0.288802\n",
      "반복(Epoch): 4100, 트레이닝 데이터 정확도: 0.882812, 손실 함수(loss): 0.399475\n",
      "반복(Epoch): 4200, 트레이닝 데이터 정확도: 0.875000, 손실 함수(loss): 0.374119\n",
      "반복(Epoch): 4300, 트레이닝 데이터 정확도: 0.914062, 손실 함수(loss): 0.244398\n",
      "반복(Epoch): 4400, 트레이닝 데이터 정확도: 0.859375, 손실 함수(loss): 0.405746\n",
      "반복(Epoch): 4500, 트레이닝 데이터 정확도: 0.765625, 손실 함수(loss): 0.785284\n",
      "반복(Epoch): 4600, 트레이닝 데이터 정확도: 0.890625, 손실 함수(loss): 0.237690\n",
      "반복(Epoch): 4700, 트레이닝 데이터 정확도: 0.898438, 손실 함수(loss): 0.342796\n",
      "반복(Epoch): 4800, 트레이닝 데이터 정확도: 0.882812, 손실 함수(loss): 0.380446\n",
      "반복(Epoch): 4900, 트레이닝 데이터 정확도: 0.828125, 손실 함수(loss): 0.635168\n",
      "반복(Epoch): 5000, 트레이닝 데이터 정확도: 0.859375, 손실 함수(loss): 0.380849\n",
      "반복(Epoch): 5100, 트레이닝 데이터 정확도: 0.914062, 손실 함수(loss): 0.229287\n",
      "반복(Epoch): 5200, 트레이닝 데이터 정확도: 0.914062, 손실 함수(loss): 0.242928\n",
      "반복(Epoch): 5300, 트레이닝 데이터 정확도: 0.882812, 손실 함수(loss): 0.315679\n",
      "반복(Epoch): 5400, 트레이닝 데이터 정확도: 0.835938, 손실 함수(loss): 0.428474\n",
      "반복(Epoch): 5500, 트레이닝 데이터 정확도: 0.867188, 손실 함수(loss): 0.385882\n",
      "반복(Epoch): 5600, 트레이닝 데이터 정확도: 0.906250, 손실 함수(loss): 0.272468\n",
      "반복(Epoch): 5700, 트레이닝 데이터 정확도: 0.929688, 손실 함수(loss): 0.235624\n",
      "반복(Epoch): 5800, 트레이닝 데이터 정확도: 0.890625, 손실 함수(loss): 0.389689\n",
      "반복(Epoch): 5900, 트레이닝 데이터 정확도: 0.906250, 손실 함수(loss): 0.301874\n",
      "반복(Epoch): 6000, 트레이닝 데이터 정확도: 0.921875, 손실 함수(loss): 0.214741\n",
      "반복(Epoch): 6100, 트레이닝 데이터 정확도: 0.890625, 손실 함수(loss): 0.333646\n",
      "반복(Epoch): 6200, 트레이닝 데이터 정확도: 0.898438, 손실 함수(loss): 0.205920\n",
      "반복(Epoch): 6300, 트레이닝 데이터 정확도: 0.867188, 손실 함수(loss): 0.342574\n",
      "반복(Epoch): 6400, 트레이닝 데이터 정확도: 0.882812, 손실 함수(loss): 0.318162\n",
      "반복(Epoch): 6500, 트레이닝 데이터 정확도: 0.890625, 손실 함수(loss): 0.268004\n",
      "반복(Epoch): 6600, 트레이닝 데이터 정확도: 0.890625, 손실 함수(loss): 0.380016\n",
      "반복(Epoch): 6700, 트레이닝 데이터 정확도: 0.859375, 손실 함수(loss): 0.431808\n",
      "반복(Epoch): 6800, 트레이닝 데이터 정확도: 0.906250, 손실 함수(loss): 0.362164\n",
      "반복(Epoch): 6900, 트레이닝 데이터 정확도: 0.960938, 손실 함수(loss): 0.233502\n",
      "반복(Epoch): 7000, 트레이닝 데이터 정확도: 0.929688, 손실 함수(loss): 0.304475\n",
      "반복(Epoch): 7100, 트레이닝 데이터 정확도: 0.906250, 손실 함수(loss): 0.298738\n",
      "반복(Epoch): 7200, 트레이닝 데이터 정확도: 0.929688, 손실 함수(loss): 0.187697\n",
      "반복(Epoch): 7300, 트레이닝 데이터 정확도: 0.929688, 손실 함수(loss): 0.261586\n",
      "반복(Epoch): 7400, 트레이닝 데이터 정확도: 0.796875, 손실 함수(loss): 0.600297\n",
      "반복(Epoch): 7500, 트레이닝 데이터 정확도: 0.875000, 손실 함수(loss): 0.410553\n",
      "반복(Epoch): 7600, 트레이닝 데이터 정확도: 0.906250, 손실 함수(loss): 0.372779\n",
      "반복(Epoch): 7700, 트레이닝 데이터 정확도: 0.843750, 손실 함수(loss): 0.724057\n",
      "반복(Epoch): 7800, 트레이닝 데이터 정확도: 0.835938, 손실 함수(loss): 0.452470\n",
      "반복(Epoch): 7900, 트레이닝 데이터 정확도: 0.898438, 손실 함수(loss): 0.247761\n",
      "반복(Epoch): 8000, 트레이닝 데이터 정확도: 0.882812, 손실 함수(loss): 0.432906\n",
      "반복(Epoch): 8100, 트레이닝 데이터 정확도: 0.882812, 손실 함수(loss): 0.576738\n",
      "반복(Epoch): 8200, 트레이닝 데이터 정확도: 0.921875, 손실 함수(loss): 0.282287\n",
      "반복(Epoch): 8300, 트레이닝 데이터 정확도: 0.945312, 손실 함수(loss): 0.412877\n",
      "반복(Epoch): 8400, 트레이닝 데이터 정확도: 0.867188, 손실 함수(loss): 0.493132\n",
      "반복(Epoch): 8500, 트레이닝 데이터 정확도: 0.789062, 손실 함수(loss): 0.614284\n",
      "반복(Epoch): 8600, 트레이닝 데이터 정확도: 0.812500, 손실 함수(loss): 0.579688\n",
      "반복(Epoch): 8700, 트레이닝 데이터 정확도: 0.921875, 손실 함수(loss): 0.305408\n",
      "반복(Epoch): 8800, 트레이닝 데이터 정확도: 0.875000, 손실 함수(loss): 0.341255\n",
      "반복(Epoch): 8900, 트레이닝 데이터 정확도: 0.937500, 손실 함수(loss): 0.251304\n",
      "반복(Epoch): 9000, 트레이닝 데이터 정확도: 0.789062, 손실 함수(loss): 0.921405\n",
      "반복(Epoch): 9100, 트레이닝 데이터 정확도: 0.914062, 손실 함수(loss): 0.254216\n",
      "반복(Epoch): 9200, 트레이닝 데이터 정확도: 0.859375, 손실 함수(loss): 0.374116\n",
      "반복(Epoch): 9300, 트레이닝 데이터 정확도: 0.859375, 손실 함수(loss): 0.827226\n",
      "반복(Epoch): 9400, 트레이닝 데이터 정확도: 0.937500, 손실 함수(loss): 0.272936\n",
      "반복(Epoch): 9500, 트레이닝 데이터 정확도: 0.890625, 손실 함수(loss): 0.318131\n",
      "반복(Epoch): 9600, 트레이닝 데이터 정확도: 0.898438, 손실 함수(loss): 0.354806\n",
      "반복(Epoch): 9700, 트레이닝 데이터 정확도: 0.867188, 손실 함수(loss): 0.388722\n",
      "반복(Epoch): 9800, 트레이닝 데이터 정확도: 0.781250, 손실 함수(loss): 0.540759\n",
      "반복(Epoch): 9900, 트레이닝 데이터 정확도: 0.875000, 손실 함수(loss): 0.381183\n"
     ]
    }
   ],
   "source": [
    "for i in range(15000):\n",
    "  batch_x, batch_y = next(train_data_iter)\n",
    "\n",
    "  if i % 100 == 0:\n",
    "    train_accuracy = compute_accuracy(CNN_model(batch_x, False)[0], batch_y)\n",
    "    loss_print = cross_entropy(CNN_model(batch_x, False)[1], batch_y)\n",
    "  \n",
    "    print(\"반복(Epoch): %d, 트레이닝 데이터 정확도: %f, 손실 함수(loss): %f\" % (i, train_accuracy, loss_print))\n",
    "    \n",
    "  train_step(CNN_model, batch_x, batch_y, True)"
   ]
  },
  {
   "cell_type": "code",
   "execution_count": 17,
   "metadata": {},
   "outputs": [
    {
     "name": "stdout",
     "output_type": "stream",
     "text": [
      "정확도:0.722000\n"
     ]
    }
   ],
   "source": [
    "test_accuracy = 0.0\n",
    "for i in range(10):\n",
    "  test_batch_x, test_batch_y = next(test_data_iter)\n",
    "  test_accuracy = test_accuracy + compute_accuracy(CNN_model(test_batch_x, False)[0], test_batch_y).numpy()\n",
    "test_accuracy = test_accuracy / 10\n",
    "print('정확도:%f' % test_accuracy)"
   ]
  },
  {
   "cell_type": "code",
   "execution_count": null,
   "metadata": {},
   "outputs": [],
   "source": []
  }
 ],
 "metadata": {
  "interpreter": {
   "hash": "0f21a28907bd242e258084ea54ba990dcd1f4be497b2c8a0510eed57636297e3"
  },
  "kernelspec": {
   "display_name": "Python 3.7.6 64-bit ('.env': venv)",
   "name": "python3"
  },
  "language_info": {
   "codemirror_mode": {
    "name": "ipython",
    "version": 3
   },
   "file_extension": ".py",
   "mimetype": "text/x-python",
   "name": "python",
   "nbconvert_exporter": "python",
   "pygments_lexer": "ipython3",
   "version": "3.7.6"
  },
  "orig_nbformat": 4
 },
 "nbformat": 4,
 "nbformat_minor": 2
}
